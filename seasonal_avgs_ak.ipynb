{
 "cells": [
  {
   "cell_type": "code",
   "execution_count": null,
   "metadata": {},
   "outputs": [],
   "source": [
    "%matplotlib inline\n",
    "import pandas as pd\n",
    "import xarray as xr\n",
    "import numpy as np\n",
    "import matplotlib.pyplot as plt\n",
    "\n",
    "import arkouda as ak\n",
    "ak.connect()"
   ]
  },
  {
   "cell_type": "code",
   "execution_count": null,
   "metadata": {},
   "outputs": [],
   "source": [
    "ds = xr.tutorial.open_dataset(\"rasm\").load().chunk(chunked_array_type=\"arkouda\")\n",
    "ds"
   ]
  },
  {
   "cell_type": "code",
   "execution_count": null,
   "metadata": {},
   "outputs": [],
   "source": [
    "month_length = ds.time.dt.days_in_month\n",
    "month_length"
   ]
  },
  {
   "cell_type": "code",
   "execution_count": null,
   "metadata": {},
   "outputs": [],
   "source": [
    "# Calculate the weights by grouping by 'time.season'.\n",
    "weights = (\n",
    "    month_length.groupby(\"time.season\") / month_length.groupby(\"time.season\").sum()\n",
    ")\n",
    "\n",
    "# Test that the sum of the weights for each season is 1.0\n",
    "np.testing.assert_allclose(weights.groupby(\"time.season\").sum().values, np.ones(4))\n",
    "\n",
    "\n",
    "# convert weights to use an Arkouda Array (see: https://github.com/pydata/xarray/issues/9040)\n",
    "from arkouda import array_api as xp\n",
    "\n",
    "weights = xr.DataArray(\n",
    "    xp.asarray(weights.data),\n",
    "    coords=weights.coords,\n",
    ")\n",
    "\n",
    "ds_weighted = (ds * weights).groupby(\"time.season\").sum(dim=\"time\")\n",
    "ds_weighted\n"
   ]
  },
  {
   "cell_type": "code",
   "execution_count": null,
   "metadata": {},
   "outputs": [],
   "source": [
    "# only used for comparisons\n",
    "ds_unweighted = ds.groupby(\"time.season\").mean(\"time\")\n",
    "ds_diff = ds_weighted - ds_unweighted"
   ]
  },
  {
   "cell_type": "code",
   "execution_count": null,
   "metadata": {},
   "outputs": [],
   "source": [
    "# Quick plot to show the results\n",
    "notnull = xp.logical_not(xp.isnan(ds_unweighted[\"Tair\"][0].data))\n",
    "\n",
    "fig, axes = plt.subplots(nrows=4, ncols=3, figsize=(14, 12))\n",
    "for i, season in enumerate((\"DJF\", \"MAM\", \"JJA\", \"SON\")):\n",
    "    ds_weighted[\"Tair\"].sel(season=season).where(notnull).plot.pcolormesh(\n",
    "        ax=axes[i, 0],\n",
    "        vmin=-30,\n",
    "        vmax=30,\n",
    "        cmap=\"Spectral_r\",\n",
    "        add_colorbar=True,\n",
    "        extend=\"both\",\n",
    "    )\n",
    "\n",
    "    ds_unweighted[\"Tair\"].sel(season=season).where(notnull).plot.pcolormesh(\n",
    "        ax=axes[i, 1],\n",
    "        vmin=-30,\n",
    "        vmax=30,\n",
    "        cmap=\"Spectral_r\",\n",
    "        add_colorbar=True,\n",
    "        extend=\"both\",\n",
    "    )\n",
    "\n",
    "    ds_diff[\"Tair\"].sel(season=season).where(notnull).plot.pcolormesh(\n",
    "        ax=axes[i, 2],\n",
    "        vmin=-0.1,\n",
    "        vmax=0.1,\n",
    "        cmap=\"RdBu_r\",\n",
    "        add_colorbar=True,\n",
    "        extend=\"both\",\n",
    "    )\n",
    "\n",
    "    axes[i, 0].set_ylabel(season)\n",
    "    axes[i, 1].set_ylabel(\"\")\n",
    "    axes[i, 2].set_ylabel(\"\")\n",
    "\n",
    "for ax in axes.flat:\n",
    "    ax.axes.get_xaxis().set_ticklabels([])\n",
    "    ax.axes.get_yaxis().set_ticklabels([])\n",
    "    ax.axes.axis(\"tight\")\n",
    "    ax.set_xlabel(\"\")\n",
    "\n",
    "axes[0, 0].set_title(\"Weighted by DPM\")\n",
    "axes[0, 1].set_title(\"Equal Weighting\")\n",
    "axes[0, 2].set_title(\"Difference\")\n",
    "\n",
    "plt.tight_layout()\n",
    "\n",
    "fig.suptitle(\"Seasonal Surface Air Temperature\", fontsize=16, y=1.02)"
   ]
  }
 ],
 "metadata": {
  "kernelspec": {
   "display_name": "Python 3 (ipykernel)",
   "language": "python",
   "name": "python3"
  },
  "language_info": {
   "codemirror_mode": {
    "name": "ipython",
    "version": 3
   },
   "file_extension": ".py",
   "mimetype": "text/x-python",
   "name": "python",
   "nbconvert_exporter": "python",
   "pygments_lexer": "ipython3",
   "version": "3.10.14"
  }
 },
 "nbformat": 4,
 "nbformat_minor": 2
}
